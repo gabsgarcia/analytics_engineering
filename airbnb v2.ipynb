{
 "cells": [
  {
   "cell_type": "markdown",
   "metadata": {},
   "source": [
    "# Projeto: Engenharia de Dados e Garantia de Qualidade no Conjunto de Dados do Airbnb no Rio de Janeiro"
   ]
  },
  {
   "cell_type": "markdown",
   "metadata": {},
   "source": [
    "#### Grupo5:\n",
    "Mariana,\n",
    "Gabriella,\n",
    "Manu,\n",
    "Fabio"
   ]
  },
  {
   "cell_type": "code",
   "execution_count": null,
   "metadata": {},
   "outputs": [
    {
     "ename": "SyntaxError",
     "evalue": "invalid syntax (287519625.py, line 3)",
     "output_type": "error",
     "traceback": [
      "\u001b[1;36m  Cell \u001b[1;32mIn[1], line 3\u001b[1;36m\u001b[0m\n\u001b[1;33m    pip install great_expectations\u001b[0m\n\u001b[1;37m        ^\u001b[0m\n\u001b[1;31mSyntaxError\u001b[0m\u001b[1;31m:\u001b[0m invalid syntax\n"
     ]
    }
   ],
   "source": [
    "#instalar adaptador\n",
    "# pip install psycopg2\n",
    "#pip install great_expectations\n"
   ]
  },
  {
   "cell_type": "code",
   "execution_count": 5,
   "metadata": {},
   "outputs": [],
   "source": [
    "#importar bibliotecas\n",
    "import pandas as pd\n",
    "import psycopg2\n",
    "import numpy as np\n",
    "import great_expectations as ge"
   ]
  },
  {
   "cell_type": "code",
   "execution_count": 3,
   "metadata": {},
   "outputs": [],
   "source": [
    "#mostrar todas as linhas e colunas dos dataframes\n",
    "pd.set_option('display.max_columns', None)\n",
    "pd.set_option('display.max_rows', None)"
   ]
  },
  {
   "cell_type": "markdown",
   "metadata": {},
   "source": [
    "### Camada Bronze\n",
    "A camada bronze salva no banco de dados do PostgreSQL contém os dados em seu formato original"
   ]
  },
  {
   "cell_type": "code",
   "execution_count": 4,
   "metadata": {},
   "outputs": [],
   "source": [
    "#estabelecer conexão com a camada bronze\n",
    "conn = psycopg2.connect(\n",
    "    host = 'localhost', \n",
    "    database =\"Bronze_Layer\", \n",
    "    user =\"postgres\",  \n",
    "    password = 131415  \n",
    ")"
   ]
  },
  {
   "cell_type": "code",
   "execution_count": null,
   "metadata": {},
   "outputs": [],
   "source": [
    "# # Função para consultar os dados e retornar como DataFrame\n",
    "# def query(create_table = 'my_table', query= \"SELECT * FROM calendar\"):\n",
    "#     # Cria o cursor para executar as consultas\n",
    "#     cursor = conn.cursor()\n",
    "#      # Execute a consulta e carregue o resultado em um DataFrame do pandas\n",
    "#     df = pd.read_sql_query(query, conn)\n",
    "#     return df"
   ]
  },
  {
   "cell_type": "code",
   "execution_count": 6,
   "metadata": {},
   "outputs": [],
   "source": [
    "# criar cursor\n",
    "cur_review = conn.cursor()\n",
    "#selecionar conteúdo da tabela\n",
    "cur_review.execute('SELECT * FROM reviews_table_bronze')\n",
    "#selecionar todas as linhas\n",
    "rows_review = cur_review.fetchall()\n",
    "#transformar em dataframe\n",
    "reviews = pd.DataFrame(rows_review, columns=['listing_id', 'id', 'date', 'reviewer_id', 'reviewer_name', 'comments'])"
   ]
  },
  {
   "cell_type": "code",
   "execution_count": 20,
   "metadata": {},
   "outputs": [],
   "source": [
    "cur_listings = conn.cursor()\n",
    "cur_listings.execute('SELECT * FROM listings_table_bronze')\n",
    "rows_listings = cur_listings.fetchall()\n",
    "listings = pd.DataFrame(rows_listings, columns=['id', 'listing_url', 'scrape_id', 'last_scraped', 'source', 'name', 'description', 'neighborhood_overview', 'picture_url', 'host_id', \n",
    "'host_url', 'host_name', 'host_since', 'host_location', 'host_about', 'host_response_time', 'host_response_rate', 'host_acceptance_rate', \n",
    "'host_is_superhost', 'host_thumbnail_url', 'host_picture_url', 'host_neighbourhood', 'host_listings_count', 'host_total_listings_count', \n",
    "'host_verifications', 'host_has_profile_pic', 'host_identity_verified', 'neighbourhood', 'neighbourhood_cleansed', \n",
    "'neighbourhood_group_cleansed', 'latitude', 'longitude', 'property_type', 'room_type', 'accommodates', 'bathrooms', 'bathrooms_text', \n",
    "'bedrooms', 'beds', 'amenities', 'price', 'minimum_nights', 'maximum_nights', 'minimum_minimum_nights', 'maximum_minimum_nights', \n",
    "'minimum_maximum_nights', 'maximum_maximum_nights', 'minimum_nights_avg_ntm', 'maximum_nights_avg_ntm', 'calendar_updated', \n",
    "'has_availability', 'availability_30', 'availability_60', 'availability_90', 'availability_365', 'calendar_last_scraped', \n",
    "'number_of_reviews', 'number_of_reviews_ltm', 'number_of_reviews_l30d', 'first_review', 'last_review', 'review_scores_rating', \n",
    "'review_scores_accuracy', 'review_scores_cleanliness', 'review_scores_checkin', 'review_scores_communication', 'review_scores_location', \n",
    "'review_scores_value', 'license', 'instant_bookable', 'calculated_host_listings_count', 'calculated_host_listings_count_entire_homes', \n",
    "'calculated_host_listings_count_private_rooms', 'calculated_host_listings_count_shared_rooms', 'reviews_per_month'\n",
    "])"
   ]
  },
  {
   "cell_type": "code",
   "execution_count": 15,
   "metadata": {},
   "outputs": [],
   "source": [
    "cur_calendar = conn.cursor()\n",
    "cur_calendar.execute('SELECT * FROM calendar_table_bronze')\n",
    "rows_calendar = cur_calendar.fetchall()\n",
    "calendar = pd.DataFrame(rows_calendar, columns=['listing_id', 'date', 'avaliable', 'price', 'adjusted_price', 'minimum_nights', 'maximum_nights'])"
   ]
  },
  {
   "cell_type": "code",
   "execution_count": 9,
   "metadata": {},
   "outputs": [
    {
     "ename": "FileNotFoundError",
     "evalue": "[Errno 2] No such file or directory: 'calendar.csv'",
     "output_type": "error",
     "traceback": [
      "\u001b[1;31m---------------------------------------------------------------------------\u001b[0m",
      "\u001b[1;31mFileNotFoundError\u001b[0m                         Traceback (most recent call last)",
      "Cell \u001b[1;32mIn[9], line 1\u001b[0m\n\u001b[1;32m----> 1\u001b[0m calendar \u001b[38;5;241m=\u001b[39m \u001b[43mpd\u001b[49m\u001b[38;5;241;43m.\u001b[39;49m\u001b[43mread_csv\u001b[49m\u001b[43m(\u001b[49m\u001b[38;5;124;43m'\u001b[39;49m\u001b[38;5;124;43mcalendar.csv\u001b[39;49m\u001b[38;5;124;43m'\u001b[39;49m\u001b[43m)\u001b[49m\n\u001b[0;32m      2\u001b[0m listings \u001b[38;5;241m=\u001b[39m pd\u001b[38;5;241m.\u001b[39mread_csv(\u001b[38;5;124m'\u001b[39m\u001b[38;5;124mlistings.csv\u001b[39m\u001b[38;5;124m'\u001b[39m)\n\u001b[0;32m      3\u001b[0m reviews \u001b[38;5;241m=\u001b[39m pd\u001b[38;5;241m.\u001b[39mread_csv(\u001b[38;5;124m'\u001b[39m\u001b[38;5;124mreviews.csv\u001b[39m\u001b[38;5;124m'\u001b[39m)\n",
      "File \u001b[1;32mc:\\Users\\Maria\\Desktop\\Retorno de Condensado\\venv\\Lib\\site-packages\\pandas\\io\\parsers\\readers.py:948\u001b[0m, in \u001b[0;36mread_csv\u001b[1;34m(filepath_or_buffer, sep, delimiter, header, names, index_col, usecols, dtype, engine, converters, true_values, false_values, skipinitialspace, skiprows, skipfooter, nrows, na_values, keep_default_na, na_filter, verbose, skip_blank_lines, parse_dates, infer_datetime_format, keep_date_col, date_parser, date_format, dayfirst, cache_dates, iterator, chunksize, compression, thousands, decimal, lineterminator, quotechar, quoting, doublequote, escapechar, comment, encoding, encoding_errors, dialect, on_bad_lines, delim_whitespace, low_memory, memory_map, float_precision, storage_options, dtype_backend)\u001b[0m\n\u001b[0;32m    935\u001b[0m kwds_defaults \u001b[38;5;241m=\u001b[39m _refine_defaults_read(\n\u001b[0;32m    936\u001b[0m     dialect,\n\u001b[0;32m    937\u001b[0m     delimiter,\n\u001b[1;32m   (...)\u001b[0m\n\u001b[0;32m    944\u001b[0m     dtype_backend\u001b[38;5;241m=\u001b[39mdtype_backend,\n\u001b[0;32m    945\u001b[0m )\n\u001b[0;32m    946\u001b[0m kwds\u001b[38;5;241m.\u001b[39mupdate(kwds_defaults)\n\u001b[1;32m--> 948\u001b[0m \u001b[38;5;28;01mreturn\u001b[39;00m \u001b[43m_read\u001b[49m\u001b[43m(\u001b[49m\u001b[43mfilepath_or_buffer\u001b[49m\u001b[43m,\u001b[49m\u001b[43m \u001b[49m\u001b[43mkwds\u001b[49m\u001b[43m)\u001b[49m\n",
      "File \u001b[1;32mc:\\Users\\Maria\\Desktop\\Retorno de Condensado\\venv\\Lib\\site-packages\\pandas\\io\\parsers\\readers.py:611\u001b[0m, in \u001b[0;36m_read\u001b[1;34m(filepath_or_buffer, kwds)\u001b[0m\n\u001b[0;32m    608\u001b[0m _validate_names(kwds\u001b[38;5;241m.\u001b[39mget(\u001b[38;5;124m\"\u001b[39m\u001b[38;5;124mnames\u001b[39m\u001b[38;5;124m\"\u001b[39m, \u001b[38;5;28;01mNone\u001b[39;00m))\n\u001b[0;32m    610\u001b[0m \u001b[38;5;66;03m# Create the parser.\u001b[39;00m\n\u001b[1;32m--> 611\u001b[0m parser \u001b[38;5;241m=\u001b[39m \u001b[43mTextFileReader\u001b[49m\u001b[43m(\u001b[49m\u001b[43mfilepath_or_buffer\u001b[49m\u001b[43m,\u001b[49m\u001b[43m \u001b[49m\u001b[38;5;241;43m*\u001b[39;49m\u001b[38;5;241;43m*\u001b[39;49m\u001b[43mkwds\u001b[49m\u001b[43m)\u001b[49m\n\u001b[0;32m    613\u001b[0m \u001b[38;5;28;01mif\u001b[39;00m chunksize \u001b[38;5;129;01mor\u001b[39;00m iterator:\n\u001b[0;32m    614\u001b[0m     \u001b[38;5;28;01mreturn\u001b[39;00m parser\n",
      "File \u001b[1;32mc:\\Users\\Maria\\Desktop\\Retorno de Condensado\\venv\\Lib\\site-packages\\pandas\\io\\parsers\\readers.py:1448\u001b[0m, in \u001b[0;36mTextFileReader.__init__\u001b[1;34m(self, f, engine, **kwds)\u001b[0m\n\u001b[0;32m   1445\u001b[0m     \u001b[38;5;28mself\u001b[39m\u001b[38;5;241m.\u001b[39moptions[\u001b[38;5;124m\"\u001b[39m\u001b[38;5;124mhas_index_names\u001b[39m\u001b[38;5;124m\"\u001b[39m] \u001b[38;5;241m=\u001b[39m kwds[\u001b[38;5;124m\"\u001b[39m\u001b[38;5;124mhas_index_names\u001b[39m\u001b[38;5;124m\"\u001b[39m]\n\u001b[0;32m   1447\u001b[0m \u001b[38;5;28mself\u001b[39m\u001b[38;5;241m.\u001b[39mhandles: IOHandles \u001b[38;5;241m|\u001b[39m \u001b[38;5;28;01mNone\u001b[39;00m \u001b[38;5;241m=\u001b[39m \u001b[38;5;28;01mNone\u001b[39;00m\n\u001b[1;32m-> 1448\u001b[0m \u001b[38;5;28mself\u001b[39m\u001b[38;5;241m.\u001b[39m_engine \u001b[38;5;241m=\u001b[39m \u001b[38;5;28;43mself\u001b[39;49m\u001b[38;5;241;43m.\u001b[39;49m\u001b[43m_make_engine\u001b[49m\u001b[43m(\u001b[49m\u001b[43mf\u001b[49m\u001b[43m,\u001b[49m\u001b[43m \u001b[49m\u001b[38;5;28;43mself\u001b[39;49m\u001b[38;5;241;43m.\u001b[39;49m\u001b[43mengine\u001b[49m\u001b[43m)\u001b[49m\n",
      "File \u001b[1;32mc:\\Users\\Maria\\Desktop\\Retorno de Condensado\\venv\\Lib\\site-packages\\pandas\\io\\parsers\\readers.py:1705\u001b[0m, in \u001b[0;36mTextFileReader._make_engine\u001b[1;34m(self, f, engine)\u001b[0m\n\u001b[0;32m   1703\u001b[0m     \u001b[38;5;28;01mif\u001b[39;00m \u001b[38;5;124m\"\u001b[39m\u001b[38;5;124mb\u001b[39m\u001b[38;5;124m\"\u001b[39m \u001b[38;5;129;01mnot\u001b[39;00m \u001b[38;5;129;01min\u001b[39;00m mode:\n\u001b[0;32m   1704\u001b[0m         mode \u001b[38;5;241m+\u001b[39m\u001b[38;5;241m=\u001b[39m \u001b[38;5;124m\"\u001b[39m\u001b[38;5;124mb\u001b[39m\u001b[38;5;124m\"\u001b[39m\n\u001b[1;32m-> 1705\u001b[0m \u001b[38;5;28mself\u001b[39m\u001b[38;5;241m.\u001b[39mhandles \u001b[38;5;241m=\u001b[39m \u001b[43mget_handle\u001b[49m\u001b[43m(\u001b[49m\n\u001b[0;32m   1706\u001b[0m \u001b[43m    \u001b[49m\u001b[43mf\u001b[49m\u001b[43m,\u001b[49m\n\u001b[0;32m   1707\u001b[0m \u001b[43m    \u001b[49m\u001b[43mmode\u001b[49m\u001b[43m,\u001b[49m\n\u001b[0;32m   1708\u001b[0m \u001b[43m    \u001b[49m\u001b[43mencoding\u001b[49m\u001b[38;5;241;43m=\u001b[39;49m\u001b[38;5;28;43mself\u001b[39;49m\u001b[38;5;241;43m.\u001b[39;49m\u001b[43moptions\u001b[49m\u001b[38;5;241;43m.\u001b[39;49m\u001b[43mget\u001b[49m\u001b[43m(\u001b[49m\u001b[38;5;124;43m\"\u001b[39;49m\u001b[38;5;124;43mencoding\u001b[39;49m\u001b[38;5;124;43m\"\u001b[39;49m\u001b[43m,\u001b[49m\u001b[43m \u001b[49m\u001b[38;5;28;43;01mNone\u001b[39;49;00m\u001b[43m)\u001b[49m\u001b[43m,\u001b[49m\n\u001b[0;32m   1709\u001b[0m \u001b[43m    \u001b[49m\u001b[43mcompression\u001b[49m\u001b[38;5;241;43m=\u001b[39;49m\u001b[38;5;28;43mself\u001b[39;49m\u001b[38;5;241;43m.\u001b[39;49m\u001b[43moptions\u001b[49m\u001b[38;5;241;43m.\u001b[39;49m\u001b[43mget\u001b[49m\u001b[43m(\u001b[49m\u001b[38;5;124;43m\"\u001b[39;49m\u001b[38;5;124;43mcompression\u001b[39;49m\u001b[38;5;124;43m\"\u001b[39;49m\u001b[43m,\u001b[49m\u001b[43m \u001b[49m\u001b[38;5;28;43;01mNone\u001b[39;49;00m\u001b[43m)\u001b[49m\u001b[43m,\u001b[49m\n\u001b[0;32m   1710\u001b[0m \u001b[43m    \u001b[49m\u001b[43mmemory_map\u001b[49m\u001b[38;5;241;43m=\u001b[39;49m\u001b[38;5;28;43mself\u001b[39;49m\u001b[38;5;241;43m.\u001b[39;49m\u001b[43moptions\u001b[49m\u001b[38;5;241;43m.\u001b[39;49m\u001b[43mget\u001b[49m\u001b[43m(\u001b[49m\u001b[38;5;124;43m\"\u001b[39;49m\u001b[38;5;124;43mmemory_map\u001b[39;49m\u001b[38;5;124;43m\"\u001b[39;49m\u001b[43m,\u001b[49m\u001b[43m \u001b[49m\u001b[38;5;28;43;01mFalse\u001b[39;49;00m\u001b[43m)\u001b[49m\u001b[43m,\u001b[49m\n\u001b[0;32m   1711\u001b[0m \u001b[43m    \u001b[49m\u001b[43mis_text\u001b[49m\u001b[38;5;241;43m=\u001b[39;49m\u001b[43mis_text\u001b[49m\u001b[43m,\u001b[49m\n\u001b[0;32m   1712\u001b[0m \u001b[43m    \u001b[49m\u001b[43merrors\u001b[49m\u001b[38;5;241;43m=\u001b[39;49m\u001b[38;5;28;43mself\u001b[39;49m\u001b[38;5;241;43m.\u001b[39;49m\u001b[43moptions\u001b[49m\u001b[38;5;241;43m.\u001b[39;49m\u001b[43mget\u001b[49m\u001b[43m(\u001b[49m\u001b[38;5;124;43m\"\u001b[39;49m\u001b[38;5;124;43mencoding_errors\u001b[39;49m\u001b[38;5;124;43m\"\u001b[39;49m\u001b[43m,\u001b[49m\u001b[43m \u001b[49m\u001b[38;5;124;43m\"\u001b[39;49m\u001b[38;5;124;43mstrict\u001b[39;49m\u001b[38;5;124;43m\"\u001b[39;49m\u001b[43m)\u001b[49m\u001b[43m,\u001b[49m\n\u001b[0;32m   1713\u001b[0m \u001b[43m    \u001b[49m\u001b[43mstorage_options\u001b[49m\u001b[38;5;241;43m=\u001b[39;49m\u001b[38;5;28;43mself\u001b[39;49m\u001b[38;5;241;43m.\u001b[39;49m\u001b[43moptions\u001b[49m\u001b[38;5;241;43m.\u001b[39;49m\u001b[43mget\u001b[49m\u001b[43m(\u001b[49m\u001b[38;5;124;43m\"\u001b[39;49m\u001b[38;5;124;43mstorage_options\u001b[39;49m\u001b[38;5;124;43m\"\u001b[39;49m\u001b[43m,\u001b[49m\u001b[43m \u001b[49m\u001b[38;5;28;43;01mNone\u001b[39;49;00m\u001b[43m)\u001b[49m\u001b[43m,\u001b[49m\n\u001b[0;32m   1714\u001b[0m \u001b[43m\u001b[49m\u001b[43m)\u001b[49m\n\u001b[0;32m   1715\u001b[0m \u001b[38;5;28;01massert\u001b[39;00m \u001b[38;5;28mself\u001b[39m\u001b[38;5;241m.\u001b[39mhandles \u001b[38;5;129;01mis\u001b[39;00m \u001b[38;5;129;01mnot\u001b[39;00m \u001b[38;5;28;01mNone\u001b[39;00m\n\u001b[0;32m   1716\u001b[0m f \u001b[38;5;241m=\u001b[39m \u001b[38;5;28mself\u001b[39m\u001b[38;5;241m.\u001b[39mhandles\u001b[38;5;241m.\u001b[39mhandle\n",
      "File \u001b[1;32mc:\\Users\\Maria\\Desktop\\Retorno de Condensado\\venv\\Lib\\site-packages\\pandas\\io\\common.py:863\u001b[0m, in \u001b[0;36mget_handle\u001b[1;34m(path_or_buf, mode, encoding, compression, memory_map, is_text, errors, storage_options)\u001b[0m\n\u001b[0;32m    858\u001b[0m \u001b[38;5;28;01melif\u001b[39;00m \u001b[38;5;28misinstance\u001b[39m(handle, \u001b[38;5;28mstr\u001b[39m):\n\u001b[0;32m    859\u001b[0m     \u001b[38;5;66;03m# Check whether the filename is to be opened in binary mode.\u001b[39;00m\n\u001b[0;32m    860\u001b[0m     \u001b[38;5;66;03m# Binary mode does not support 'encoding' and 'newline'.\u001b[39;00m\n\u001b[0;32m    861\u001b[0m     \u001b[38;5;28;01mif\u001b[39;00m ioargs\u001b[38;5;241m.\u001b[39mencoding \u001b[38;5;129;01mand\u001b[39;00m \u001b[38;5;124m\"\u001b[39m\u001b[38;5;124mb\u001b[39m\u001b[38;5;124m\"\u001b[39m \u001b[38;5;129;01mnot\u001b[39;00m \u001b[38;5;129;01min\u001b[39;00m ioargs\u001b[38;5;241m.\u001b[39mmode:\n\u001b[0;32m    862\u001b[0m         \u001b[38;5;66;03m# Encoding\u001b[39;00m\n\u001b[1;32m--> 863\u001b[0m         handle \u001b[38;5;241m=\u001b[39m \u001b[38;5;28;43mopen\u001b[39;49m\u001b[43m(\u001b[49m\n\u001b[0;32m    864\u001b[0m \u001b[43m            \u001b[49m\u001b[43mhandle\u001b[49m\u001b[43m,\u001b[49m\n\u001b[0;32m    865\u001b[0m \u001b[43m            \u001b[49m\u001b[43mioargs\u001b[49m\u001b[38;5;241;43m.\u001b[39;49m\u001b[43mmode\u001b[49m\u001b[43m,\u001b[49m\n\u001b[0;32m    866\u001b[0m \u001b[43m            \u001b[49m\u001b[43mencoding\u001b[49m\u001b[38;5;241;43m=\u001b[39;49m\u001b[43mioargs\u001b[49m\u001b[38;5;241;43m.\u001b[39;49m\u001b[43mencoding\u001b[49m\u001b[43m,\u001b[49m\n\u001b[0;32m    867\u001b[0m \u001b[43m            \u001b[49m\u001b[43merrors\u001b[49m\u001b[38;5;241;43m=\u001b[39;49m\u001b[43merrors\u001b[49m\u001b[43m,\u001b[49m\n\u001b[0;32m    868\u001b[0m \u001b[43m            \u001b[49m\u001b[43mnewline\u001b[49m\u001b[38;5;241;43m=\u001b[39;49m\u001b[38;5;124;43m\"\u001b[39;49m\u001b[38;5;124;43m\"\u001b[39;49m\u001b[43m,\u001b[49m\n\u001b[0;32m    869\u001b[0m \u001b[43m        \u001b[49m\u001b[43m)\u001b[49m\n\u001b[0;32m    870\u001b[0m     \u001b[38;5;28;01melse\u001b[39;00m:\n\u001b[0;32m    871\u001b[0m         \u001b[38;5;66;03m# Binary mode\u001b[39;00m\n\u001b[0;32m    872\u001b[0m         handle \u001b[38;5;241m=\u001b[39m \u001b[38;5;28mopen\u001b[39m(handle, ioargs\u001b[38;5;241m.\u001b[39mmode)\n",
      "\u001b[1;31mFileNotFoundError\u001b[0m: [Errno 2] No such file or directory: 'calendar.csv'"
     ]
    }
   ],
   "source": [
    "calendar = pd.read_csv('calendar.csv')\n",
    "listings = pd.read_csv('listings.csv')\n",
    "reviews = pd.read_csv('reviews.csv')"
   ]
  },
  {
   "cell_type": "markdown",
   "metadata": {},
   "source": [
    "### Camada Silver\n",
    "A camada Silver contém dados padronizados, limpos e métricas de qualidade implementadas"
   ]
  },
  {
   "cell_type": "markdown",
   "metadata": {},
   "source": [
    "Data Clean - Camada Silver: <br>\n",
    "- Identifique e lide com valores ausentes, duplicatas e outliers nos dados brutos da camada \"bronze\". <br>\n",
    "- Padronize e limpe os nomes das colunas, convertendo-os em um formato consistente. <br>\n",
    "- Realize uma limpeza textual em campos, como descrições de propriedades, removendo caracteres especiais e erros de digitação."
   ]
  },
  {
   "cell_type": "markdown",
   "metadata": {},
   "source": [
    "Data Quality - Camada Silver:\n",
    "- Defina métricas de qualidade de dados, como integridade, precisão e consistência para os dados da camada \"bronze\".\n",
    "- Implemente verificações para garantir que os dados da camada \"silver\" estejam em conformidade com essas métricas.\n",
    "- Estabeleça um sistema de monitoramento contínuo da qualidade dos dados da camada \"silver\"."
   ]
  },
  {
   "cell_type": "code",
   "execution_count": 40,
   "metadata": {},
   "outputs": [],
   "source": [
    "#converter reviews para os tipos corretos\n",
    "reviews[['listing_id', 'id', 'reviewer_id']] = reviews[['listing_id', 'id', 'reviewer_id']].apply(pd.to_numeric)\n",
    "reviews['date'] = pd.to_datetime(reviews['date'])\n",
    "\n",
    "#Nulos e duplicados\n",
    "reviews = reviews.dropna(how=\"all\", axis=1).dropna(how=\"all\")\n",
    "reviews = reviews.drop_duplicates()\n",
    "\n",
    "#remover outros caracteres especiais\n",
    "remover = [']', '[', '\"', '\\n', '*', '\\r', '<br/>']\n",
    "\n",
    "for caractere in remover:\n",
    "    for coluna in reviews.columns:\n",
    "        if reviews[coluna].dtype == 'object':\n",
    "            reviews[coluna] = reviews[coluna].str.replace(caractere, '', regex=False)"
   ]
  },
  {
   "cell_type": "code",
   "execution_count": 16,
   "metadata": {},
   "outputs": [],
   "source": [
    "#Nulos e duplicados\n",
    "calendar = calendar.dropna(how=\"all\", axis=1).dropna(how=\"all\")\n",
    "calendar = calendar.drop_duplicates()\n",
    "\n",
    "#converter calendar para os tipos corretos e remover caracteres especiais\n",
    "calendar['price'] = calendar['price'].str.replace('$','', regex=False) #adjusted_price/price\n",
    "calendar['price'] = calendar['price'].str.replace(',','', regex=False) #adjusted_price/price\n",
    "\n",
    "# Converter para número\n",
    "calendar[['listing_id', 'minimum_nights', 'maximum_nights','price']] = calendar[['listing_id', 'minimum_nights', 'maximum_nights','price']].apply(pd.to_numeric) #adjusted_price/price\n",
    "\n",
    "# Converter 'date' para data\n",
    "calendar['date'] = pd.to_datetime(calendar['date'])\n",
    "\n",
    "# Converter \"t\" 'f' para True e False\n",
    "calendar['avaliable'] = np.where(calendar['avaliable']==\"t\",True,False)\n",
    "\n",
    "## Tratar valores nulos\n",
    "for col in calendar.select_dtypes(include = \"number\").columns:\n",
    "    calendar[col] = calendar[col].fillna(calendar[col].mean()).astype('int')\n"
   ]
  },
  {
   "cell_type": "code",
   "execution_count": null,
   "metadata": {},
   "outputs": [],
   "source": [
    "# listings = pd.read_csv('listings.csv')\n",
    "listings=listings[listings.host_location=='Rio de Janeiro, Brazil'] # Filtrar Rio de Janeiro\n",
    "\n",
    "#Nulos e duplicados\n",
    "listings = listings.dropna(how=\"all\", axis=1).dropna(how=\"all\")\n",
    "listings = listings.drop_duplicates()\n",
    "\n",
    "#converter listings para os tipos corretos e remover caracteres especiais\n",
    "converter_numerico = [\n",
    "    'id', 'host_id', 'host_listings_count', 'host_total_listings_count', \n",
    "    'accommodates', 'bathrooms', 'bedrooms', 'beds', 'minimum_nights', \n",
    "    'maximum_nights', 'minimum_minimum_nights', 'maximum_minimum_nights', \n",
    "    'minimum_maximum_nights', 'maximum_maximum_nights', 'minimum_nights_avg_ntm', \n",
    "    'maximum_nights_avg_ntm', 'availability_30', 'availability_60', \n",
    "    'availability_90', 'availability_365', 'number_of_reviews', \n",
    "    'number_of_reviews_ltm', 'number_of_reviews_l30d', 'review_scores_rating', \n",
    "    'review_scores_accuracy', 'review_scores_cleanliness', 'review_scores_checkin', \n",
    "    'review_scores_communication', 'review_scores_location', 'review_scores_value', \n",
    "    'calculated_host_listings_count', 'calculated_host_listings_count_entire_homes', \n",
    "    'calculated_host_listings_count_private_rooms', \n",
    "    'calculated_host_listings_count_shared_rooms', 'reviews_per_month'\n",
    "]\n",
    "\n",
    "converter_data = [\n",
    "    'last_scraped', 'host_since', 'first_review', 'last_review'\n",
    "]\n",
    "\n",
    "#converter os tipos conforme as listas acima\n",
    "listings[converter_numerico] = listings[converter_numerico].apply(pd.to_numeric)\n",
    "listings[converter_data] = listings[converter_data].apply(pd.to_datetime)\n",
    "\n",
    "#corrigir a coluna de price que tinha caractere especial\n",
    "listings['price'] = listings['price'].str.replace('$','', regex=False)\n",
    "listings['price'] = listings['price'].str.replace(',','', regex=False).astype(float)\n",
    "\n",
    "#existem valores N/A nas colunas host_response_rate e host_acceptance_rate; é prevciso alterar para NaN\n",
    "listings['host_response_rate'] = listings['host_response_rate'].replace('N/A', np.NaN)\n",
    "listings['host_acceptance_rate'] =listings['host_acceptance_rate'].replace('N/A', np.NaN)\n",
    "\n",
    "#converter colunas com % para formato adequado\n",
    "listings['host_response_rate'] = listings['host_response_rate'].str.replace('%', '', regex=False).astype(float) / 100\n",
    "listings['host_acceptance_rate'] = listings['host_acceptance_rate'].str.replace('%', '', regex=False).astype(float) / 100\n",
    "\n",
    "#algumas colunas de listings estão com vazio 'None', vou mudar para NaN\n",
    "contem_vazios = ['description', 'neighborhood_overview', 'host_location', 'host_response_rate', \n",
    "'host_acceptance_rate', 'host_is_superhost', 'host_neighbourhood', 'neighbourhood',  'bathrooms', 'bathrooms_text', 'bedrooms', \n",
    "'beds', 'price', 'has_availability', 'first_review', \n",
    "'last_review', 'review_scores_rating', 'review_scores_accuracy', \n",
    "'review_scores_cleanliness', 'review_scores_checkin', \n",
    "'review_scores_communication', 'review_scores_location', \n",
    "'review_scores_value', 'reviews_per_month']\n",
    "\n",
    "listings[contem_vazios] = listings[contem_vazios].fillna(np.nan)\n",
    "\n",
    "#remover outros caracteres especiais\n",
    "remover = [']', '[', '\"', '\\n', '*']\n",
    "\n",
    "for caractere in remover:\n",
    "    for coluna in listings.columns:\n",
    "        if listings[coluna].dtype == 'object':\n",
    "            listings[coluna] = listings[coluna].str.replace(caractere, '', regex=False)\n",
    "\n",
    "# Converter True/False\n",
    "for col in ['host_is_superhost','instant_bookable']:\n",
    "    listings[col] = np.where(listings[col] ==\"t\",True,False)\n",
    "\n",
    "# Ajustando a coluna de verificações\n",
    "expand = listings['host_verifications'].str.split(',', expand=True, n=3)\n",
    "for col in expand.columns:\n",
    "    expand[col] = expand[col].str.replace(\"'\",'').str.replace(\"]\",'').str.replace(\"[\",'')\n",
    "\n",
    "novos_nomes = {expand.columns[0]: 'host_verification_1',\n",
    "               expand.columns[1]: 'host_verification_2',\n",
    "               expand.columns[2]: 'host_verification_3'}\n",
    "\n",
    "\n",
    "expand.rename(columns=novos_nomes, inplace=True)\n",
    "\n",
    "listings = pd.concat([listings,expand],axis=1).drop(\"host_verifications\",axis=1)    \n"
   ]
  },
  {
   "cell_type": "markdown",
   "metadata": {},
   "source": [
    "Validação de Expectativas com Great Expectations - Camada Silver:\n",
    "- Implemente validações adicionais usando Great Expectations nas camadas de dados da camada \"silver\".\n",
    "- Monitore a qualidade dos dados da camada \"silver\" após cada transformação e ajuste os testes de acordo."
   ]
  },
  {
   "cell_type": "code",
   "execution_count": 7,
   "metadata": {},
   "outputs": [],
   "source": [
    "## Fazer o MErge em tudo para Great Expectations e depois subir na tabela ouro\n",
    "\n",
    "merjao_bd_reviews = pd.merge(reviews, listings, left_on='listing_id' ,right_on='id',  how= 'left')\n",
    "merjao_bd_reviews = pd.merge(merjao_bd_reviews, calendar, left_on='id_x', right_on='listing_id', how= 'left')\n",
    "\n",
    "merjao_bd_reviews = merjao_bd_reviews.rename(columns = {'listing_id_x':'listing_id', \n",
    "                                                        'id_x':'id', \n",
    "                                                        'date_x':'date', \n",
    "                                                        'price_x':'price', \n",
    "                                                        'minimum_nights_x':'minimum_nights',\n",
    "                                                        'maximum_nights_x':'maximum_nights'})\n",
    "\n",
    "merjao_bd_reviews = merjao_bd_reviews.drop(columns=['listing_id_y', 'date_y', 'price_y', 'minimum_nights_y','maximum_nights_y','id_y'])\n"
   ]
  },
  {
   "cell_type": "code",
   "execution_count": null,
   "metadata": {},
   "outputs": [
    {
     "ename": "ModuleNotFoundError",
     "evalue": "No module named 'great_expectations'",
     "output_type": "error",
     "traceback": [
      "\u001b[1;31m---------------------------------------------------------------------------\u001b[0m",
      "\u001b[1;31mModuleNotFoundError\u001b[0m                       Traceback (most recent call last)",
      "Input \u001b[1;32mIn [8]\u001b[0m, in \u001b[0;36m<cell line: 2>\u001b[1;34m()\u001b[0m\n\u001b[0;32m      1\u001b[0m \u001b[38;5;66;03m#aqui entra o great expcectations ## EScolher colunas chave para metricas\u001b[39;00m\n\u001b[1;32m----> 2\u001b[0m \u001b[38;5;28;01mimport\u001b[39;00m \u001b[38;5;21;01mgreat_expectations\u001b[39;00m \u001b[38;5;28;01mas\u001b[39;00m \u001b[38;5;21;01mge\u001b[39;00m\n\u001b[0;32m      4\u001b[0m \u001b[38;5;66;03m# Criar um contexto do Great Expectations\u001b[39;00m\n\u001b[0;32m      5\u001b[0m context \u001b[38;5;241m=\u001b[39m ge\u001b[38;5;241m.\u001b[39mdata_context\u001b[38;5;241m.\u001b[39mDataContext(\u001b[38;5;124m\"\u001b[39m\u001b[38;5;124m/path/to/great_expectations\u001b[39m\u001b[38;5;124m\"\u001b[39m)  \u001b[38;5;66;03m# Caminho para o seu projeto Great Expectations\u001b[39;00m\n",
      "\u001b[1;31mModuleNotFoundError\u001b[0m: No module named 'great_expectations'"
     ]
    }
   ],
   "source": [
    "#aqui entra o great expcectations ## EScolher colunas chave para metricas\n",
    "great_expectations init\n",
    "\n",
    "# Criar um contexto do Great Expectations\n",
    "context = ge.data_context.DataContext(\"/path/to/great_expectations\")  # Caminho para o seu projeto Great Expectations\n",
    "\n",
    "# Supondo que você já tenha o DataFrame 'merjao_bd_reviews'\n",
    "# Exemplo de DataFrame para fins ilustrativos:\n",
    "# merjao_bd_reviews = pd.DataFrame(...)  # Seu DataFrame carregado\n",
    "\n",
    "# Adicionar os dados como um \"batch\" para validação\n",
    "batch_kwargs = {\n",
    "    \"dataset\": merjao_bd_reviews,  # O seu DataFrame\n",
    "    \"batch_identifier\": \"batch_1\",  # Identificador do batch, pode ser qualquer string única\n",
    "}\n",
    "\n",
    "# Criar o batch para validação\n",
    "batch = context.get_batch(batch_kwargs)\n",
    "\n",
    "# 1. Espera que a coluna 'host_location' tenha valores específicos\n",
    "batch.expect_column_values_to_be_in_set(\"host_location\", ['Rio de Janeiro, Brazil'])\n",
    "\n",
    "# 2. Espera que a coluna 'id' tenha valores únicos\n",
    "batch.expect_column_values_to_be_unique(\"id\")\n",
    "\n",
    "# 3. Espera que a coluna 'last_scraped' seja recente (últimos 12 meses)\n",
    "# Definindo um intervalo de 12 meses atrás até o momento presente\n",
    "twelve_months_ago = datetime.now() - timedelta(days=365)\n",
    "batch.expect_column_values_to_be_between(\n",
    "    \"last_scraped\",\n",
    "    min_value=twelve_months_ago,  # Definindo o limite mínimo de 12 meses atrás\n",
    "    max_value=datetime.now()  # Limite máximo (agora)\n",
    ")\n",
    "\n",
    "# Executar as validações e obter os resultados\n",
    "results = batch.validate()\n",
    "\n",
    "# Exibir os resultados da validação\n",
    "print(results)\n"
   ]
  },
  {
   "cell_type": "code",
   "execution_count": null,
   "metadata": {},
   "outputs": [],
   "source": [
    "### Uma vez validados os resultados podemos subir a camada Gold para o Banco de dados:\n",
    "\n",
    "## Subir dados no Banco\n",
    "#selecionar conteúdo da tabela\n",
    "cur_review.execute(\"\"\"CREATE TABLE IF NOT EXISTS reviews_Gold (\n",
    "    listing_id BIGINT NOT NULL,\n",
    "    id BIGINT NOT NULL,\n",
    "    date TIMESTAMP NOT NULL,\n",
    "    reviewer_id BIGINT NOT NULL,\n",
    "    reviewer_name TEXT,\n",
    "    comments TEXT,\n",
    "    listing_url TEXT,\n",
    "    scrape_id FLOAT,\n",
    "    last_scraped TIMESTAMP,\n",
    "    source TEXT,\n",
    "    name TEXT,\n",
    "    description TEXT,\n",
    "    neighborhood_overview TEXT,\n",
    "    picture_url TEXT,\n",
    "    host_id FLOAT,\n",
    "    host_url TEXT,\n",
    "    host_name TEXT,\n",
    "    host_since TIMESTAMP,\n",
    "    host_location TEXT,\n",
    "    host_about TEXT,\n",
    "    host_response_time TEXT,\n",
    "    host_response_rate FLOAT,\n",
    "    host_acceptance_rate FLOAT,\n",
    "    host_is_superhost TEXT,\n",
    "    host_thumbnail_url TEXT,\n",
    "    host_picture_url TEXT,\n",
    "    host_neighbourhood TEXT,\n",
    "    host_listings_count FLOAT,\n",
    "    host_total_listings_count FLOAT,\n",
    "    host_has_profile_pic TEXT,\n",
    "    host_identity_verified TEXT,\n",
    "    neighbourhood TEXT,\n",
    "    neighbourhood_cleansed TEXT,\n",
    "    latitude FLOAT,\n",
    "    longitude FLOAT,\n",
    "    property_type TEXT,\n",
    "    room_type TEXT,\n",
    "    accommodates FLOAT,\n",
    "    bathrooms FLOAT,\n",
    "    bathrooms_text TEXT,\n",
    "    bedrooms FLOAT,\n",
    "    beds FLOAT,\n",
    "    amenities TEXT,\n",
    "    price FLOAT,\n",
    "    minimum_nights FLOAT,\n",
    "    maximum_nights FLOAT,\n",
    "    minimum_minimum_nights FLOAT,\n",
    "    maximum_minimum_nights FLOAT,\n",
    "    minimum_maximum_nights FLOAT,\n",
    "    maximum_maximum_nights FLOAT,\n",
    "    minimum_nights_avg_ntm FLOAT,\n",
    "    maximum_nights_avg_ntm FLOAT,\n",
    "    has_availability TEXT,\n",
    "    availability_30 FLOAT,\n",
    "    availability_60 FLOAT,\n",
    "    availability_90 FLOAT,\n",
    "    availability_365 FLOAT,\n",
    "    calendar_last_scraped TEXT,\n",
    "    number_of_reviews FLOAT,\n",
    "    number_of_reviews_ltm FLOAT,\n",
    "    number_of_reviews_l30d FLOAT,\n",
    "    first_review TIMESTAMP,\n",
    "    last_review TIMESTAMP,\n",
    "    review_scores_rating FLOAT,\n",
    "    review_scores_accuracy FLOAT,\n",
    "    review_scores_cleanliness FLOAT,\n",
    "    review_scores_checkin FLOAT,\n",
    "    review_scores_communication FLOAT,\n",
    "    review_scores_location FLOAT,\n",
    "    review_scores_value FLOAT,\n",
    "    instant_bookable TEXT,\n",
    "    calculated_host_listings_count FLOAT,\n",
    "    calculated_host_listings_count_entire_homes FLOAT,\n",
    "    calculated_host_listings_count_private_rooms FLOAT,\n",
    "    calculated_host_listings_count_shared_rooms FLOAT,\n",
    "    reviews_per_month FLOAT,\n",
    "    host_verification_1 TEXT,\n",
    "    host_verification_2 TEXT,\n",
    "    host_verification_3 TEXT,\n",
    "    available TEXT,\n",
    "    PRIMARY KEY (id)\n",
    ");\n",
    "\"\"\")\n",
    "\n"
   ]
  },
  {
   "cell_type": "code",
   "execution_count": null,
   "metadata": {},
   "outputs": [],
   "source": [
    "# Definindo a consulta de inserção em massa\n",
    "insert_query = \"\"\"\n",
    "    INSERT INTO reviews_Gold (\n",
    "        listing_id, id, date, reviewer_id, reviewer_name, comments, listing_url, scrape_id,\n",
    "        last_scraped, source, name, description, neighborhood_overview, picture_url, host_id,\n",
    "        host_url, host_name, host_since, host_location, host_about, host_response_time,\n",
    "        host_response_rate, host_acceptance_rate, host_is_superhost, host_thumbnail_url,\n",
    "        host_picture_url, host_neighbourhood, host_listings_count, host_total_listings_count,\n",
    "        host_has_profile_pic, host_identity_verified, neighbourhood, neighbourhood_cleansed,\n",
    "        latitude, longitude, property_type, room_type, accommodates, bathrooms, bathrooms_text,\n",
    "        bedrooms, beds, amenities, price, minimum_nights, maximum_nights, minimum_minimum_nights,\n",
    "        maximum_minimum_nights, minimum_maximum_nights, maximum_maximum_nights,\n",
    "        minimum_nights_avg_ntm, maximum_nights_avg_ntm, has_availability, availability_30,\n",
    "        availability_60, availability_90, availability_365, calendar_last_scraped,\n",
    "        number_of_reviews, number_of_reviews_ltm, number_of_reviews_l30d, first_review,\n",
    "        last_review, review_scores_rating, review_scores_accuracy, review_scores_cleanliness,\n",
    "        review_scores_checkin, review_scores_communication, review_scores_location,\n",
    "        review_scores_value, instant_bookable, calculated_host_listings_count,\n",
    "        calculated_host_listings_count_entire_homes, calculated_host_listings_count_private_rooms,\n",
    "        calculated_host_listings_count_shared_rooms, reviews_per_month, host_verification_1,\n",
    "        host_verification_2, host_verification_3, available\n",
    "    ) VALUES (%s, %s, %s, %s, %s, %s, %s, %s, %s, %s, %s, %s, %s, %s, %s, %s, %s, %s, %s, %s, %s, %s, %s, %s,\n",
    "        %s, %s, %s, %s, %s, %s, %s, %s, %s, %s, %s, %s, %s, %s, %s, %s, %s, %s, %s, %s, %s, %s, %s, %s, %s,\n",
    "        %s, %s, %s, %s, %s, %s, %s, %s);\n",
    "\"\"\"\n",
    "\n",
    "# Preparar os dados para inserção\n",
    "for index, row in merjao_bd_reviews.iterrows():\n",
    "    values = (\n",
    "        row['listing_id'], row['id'], row['date'], row['reviewer_id'], row['reviewer_name'], row['comments'],\n",
    "        row['listing_url'], row['scrape_id'], row['last_scraped'], row['source'], row['name'], row['description'],\n",
    "        row['neighborhood_overview'], row['picture_url'], row['host_id'], row['host_url'], row['host_name'],\n",
    "        row['host_since'], row['host_location'], row['host_about'], row['host_response_time'],\n",
    "        row['host_response_rate'], row['host_acceptance_rate'], row['host_is_superhost'], row['host_thumbnail_url'],\n",
    "        row['host_picture_url'], row['host_neighbourhood'], row['host_listings_count'],\n",
    "        row['host_total_listings_count'], row['host_has_profile_pic'], row['host_identity_verified'],\n",
    "        row['neighbourhood'], row['neighbourhood_cleansed'], row['latitude'], row['longitude'],\n",
    "        row['property_type'], row['room_type'], row['accommodates'], row['bathrooms'], row['bathrooms_text'],\n",
    "        row['bedrooms'], row['beds'], row['amenities'], row['price'], row['minimum_nights'],\n",
    "        row['maximum_nights'], row['minimum_minimum_nights'], row['maximum_minimum_nights'],\n",
    "        row['minimum_maximum_nights'], row['maximum_maximum_nights'], row['minimum_nights_avg_ntm'],\n",
    "        row['maximum_nights_avg_ntm'], row['has_availability'], row['availability_30'], row['availability_60'],\n",
    "        row['availability_90'], row['availability_365'], row['calendar_last_scraped'], row['number_of_reviews'],\n",
    "        row['number_of_reviews_ltm'], row['number_of_reviews_l30d'], row['first_review'], row['last_review'],\n",
    "        row['review_scores_rating'], row['review_scores_accuracy'], row['review_scores_cleanliness'],\n",
    "        row['review_scores_checkin'], row['review_scores_communication'], row['review_scores_location'],\n",
    "        row['review_scores_value'], row['instant_bookable'], row['calculated_host_listings_count'],\n",
    "        row['calculated_host_listings_count_entire_homes'], row['calculated_host_listings_count_private_rooms'],\n",
    "        row['calculated_host_listings_count_shared_rooms'], row['reviews_per_month'], row['host_verification_1'],\n",
    "        row['host_verification_2'], row['host_verification_3'], row['available']\n",
    "    )\n",
    "    \n",
    "    # Executar o comando de inserção\n",
    "    cur_review.execute(insert_query, values)\n",
    "\n",
    "# Confirmar a transação\n",
    "connection.commit()\n"
   ]
  },
  {
   "cell_type": "code",
   "execution_count": null,
   "metadata": {},
   "outputs": [],
   "source": [
    "cur_review.execute('SELECT * FROM reviews_table_bronze')"
   ]
  },
  {
   "cell_type": "code",
   "execution_count": null,
   "metadata": {},
   "outputs": [],
   "source": [
    "# Fechar o cursor e a conexão\n",
    "cur_review.close()\n",
    "connection.close()\n"
   ]
  },
  {
   "cell_type": "markdown",
   "metadata": {},
   "source": [
    "Transformação de Dados - Camada Gold:\n",
    "- Crie a camada \"gold\" de dados, aplicando agregações especializadas, como médias de preços por propriedade, por período, e outras agregações especializadas.\n",
    "- Armazene os dados da camada \"gold\" no mesmo banco de dados PostgreSQL, mantendo a estrutura de dados otimizada para consultas analíticas."
   ]
  }
 ],
 "metadata": {
  "kernelspec": {
   "display_name": "venv",
   "language": "python",
   "name": "python3"
  },
  "language_info": {
   "codemirror_mode": {
    "name": "ipython",
    "version": 3
   },
   "file_extension": ".py",
   "mimetype": "text/x-python",
   "name": "python",
   "nbconvert_exporter": "python",
   "pygments_lexer": "ipython3",
   "version": "3.12.1"
  }
 },
 "nbformat": 4,
 "nbformat_minor": 2
}
