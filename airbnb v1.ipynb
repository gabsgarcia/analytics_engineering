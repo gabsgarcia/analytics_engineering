{
 "cells": [
  {
   "cell_type": "markdown",
   "metadata": {},
   "source": [
    "# Projeto: Engenharia de Dados e Garantia de Qualidade no Conjunto de Dados do Airbnb no Rio de Janeiro"
   ]
  },
  {
   "cell_type": "code",
   "execution_count": null,
   "metadata": {},
   "outputs": [
    {
     "name": "stdout",
     "output_type": "stream",
     "text": [
      "Collecting psycopg2Note: you may need to restart the kernel to use updated packages.\n"
     ]
    },
    {
     "name": "stderr",
     "output_type": "stream",
     "text": [
      "\n",
      "[notice] A new release of pip is available: 24.2 -> 24.3.1\n",
      "[notice] To update, run: python.exe -m pip install --upgrade pip\n"
     ]
    },
    {
     "name": "stdout",
     "output_type": "stream",
     "text": [
      "\n",
      "  Downloading psycopg2-2.9.10-cp312-cp312-win_amd64.whl.metadata (5.0 kB)\n",
      "Downloading psycopg2-2.9.10-cp312-cp312-win_amd64.whl (1.2 MB)\n",
      "   ---------------------------------------- 0.0/1.2 MB ? eta -:--:--\n",
      "   ---------------------------------------- 0.0/1.2 MB ? eta -:--:--\n",
      "   --------- ------------------------------ 0.3/1.2 MB ? eta -:--:--\n",
      "   ------------------ --------------------- 0.5/1.2 MB 1.9 MB/s eta 0:00:01\n",
      "   --------------------------- ------------ 0.8/1.2 MB 1.5 MB/s eta 0:00:01\n",
      "   ------------------------------------ --- 1.0/1.2 MB 1.2 MB/s eta 0:00:01\n",
      "   ---------------------------------------- 1.2/1.2 MB 1.1 MB/s eta 0:00:00\n",
      "Installing collected packages: psycopg2\n",
      "Successfully installed psycopg2-2.9.10\n"
     ]
    }
   ],
   "source": [
    "#instalar adaptador\n",
    "pip install psycopg2"
   ]
  },
  {
   "cell_type": "code",
   "execution_count": 58,
   "metadata": {},
   "outputs": [],
   "source": [
    "#importar bibliotecas\n",
    "import pandas as pd\n",
    "import psycopg2\n",
    "import numpy as np"
   ]
  },
  {
   "cell_type": "code",
   "execution_count": 37,
   "metadata": {},
   "outputs": [],
   "source": [
    "pd.set_option('display.max_columns', None)\n",
    "pd.set_option('display.max_rows', None)"
   ]
  },
  {
   "cell_type": "markdown",
   "metadata": {},
   "source": [
    "### Camada Bronze\n",
    "A camada bronze salva no banco de dados do PostgreSQL contém os dados em seu formato original"
   ]
  },
  {
   "cell_type": "code",
   "execution_count": 70,
   "metadata": {},
   "outputs": [],
   "source": [
    "#estabelecer conexão com a camada bronze\n",
    "conn = psycopg2.connect(\n",
    "    host = 'localhost', \n",
    "    database =\"Bronze_Layer\", \n",
    "    user =\"postgres\",  \n",
    "    password = 131415  \n",
    ")"
   ]
  },
  {
   "cell_type": "code",
   "execution_count": 71,
   "metadata": {},
   "outputs": [],
   "source": [
    "# criar cursor\n",
    "cur_review = conn.cursor()\n",
    "#selecionar conteúdo da tabela\n",
    "cur_review.execute('SELECT * FROM reviews_table_bronze')\n",
    "#selecionar todas as linhas\n",
    "rows_review = cur_review.fetchall()\n",
    "#transformar em dataframe\n",
    "reviews = pd.DataFrame(rows_review, columns=['listing_id', 'id', 'date', 'reviewer_id', 'reviewer_name', 'comments'])"
   ]
  },
  {
   "cell_type": "code",
   "execution_count": 72,
   "metadata": {},
   "outputs": [],
   "source": [
    "cur_listings = conn.cursor()\n",
    "cur_listings.execute('SELECT * FROM listings_table_bronze')\n",
    "rows_listings = cur_listings.fetchall()\n",
    "listings = pd.DataFrame(rows_listings, columns=['id', 'listing_url', 'scrape_id', 'last_scraped', 'source', 'name', 'description', 'neighborhood_overview', 'picture_url', 'host_id', \n",
    "'host_url', 'host_name', 'host_since', 'host_location', 'host_about', 'host_response_time', 'host_response_rate', 'host_acceptance_rate', \n",
    "'host_is_superhost', 'host_thumbnail_url', 'host_picture_url', 'host_neighbourhood', 'host_listings_count', 'host_total_listings_count', \n",
    "'host_verifications', 'host_has_profile_pic', 'host_identity_verified', 'neighbourhood', 'neighbourhood_cleansed', \n",
    "'neighbourhood_group_cleansed', 'latitude', 'longitude', 'property_type', 'room_type', 'accommodates', 'bathrooms', 'bathrooms_text', \n",
    "'bedrooms', 'beds', 'amenities', 'price', 'minimum_nights', 'maximum_nights', 'minimum_minimum_nights', 'maximum_minimum_nights', \n",
    "'minimum_maximum_nights', 'maximum_maximum_nights', 'minimum_nights_avg_ntm', 'maximum_nights_avg_ntm', 'calendar_updated', \n",
    "'has_availability', 'availability_30', 'availability_60', 'availability_90', 'availability_365', 'calendar_last_scraped', \n",
    "'number_of_reviews', 'number_of_reviews_ltm', 'number_of_reviews_l30d', 'first_review', 'last_review', 'review_scores_rating', \n",
    "'review_scores_accuracy', 'review_scores_cleanliness', 'review_scores_checkin', 'review_scores_communication', 'review_scores_location', \n",
    "'review_scores_value', 'license', 'instant_bookable', 'calculated_host_listings_count', 'calculated_host_listings_count_entire_homes', \n",
    "'calculated_host_listings_count_private_rooms', 'calculated_host_listings_count_shared_rooms', 'reviews_per_month'\n",
    "])"
   ]
  },
  {
   "cell_type": "code",
   "execution_count": 73,
   "metadata": {},
   "outputs": [],
   "source": [
    "cur_calendar = conn.cursor()\n",
    "cur_calendar.execute('SELECT * FROM calendar_table_bronze')\n",
    "rows_calendar = cur_calendar.fetchall()\n",
    "calendar = pd.DataFrame(rows_calendar, columns=['listing_id', 'date', 'avaliable', 'price', 'adjusted_price', 'minimum_nights', 'maximum_nights'])"
   ]
  },
  {
   "cell_type": "markdown",
   "metadata": {},
   "source": [
    "### Camada Silver\n",
    "A camada Silver contém dados padronizados, limpos e métricas de qualidade implementadas"
   ]
  },
  {
   "cell_type": "markdown",
   "metadata": {},
   "source": [
    "Data Clean - Camada Silver: <br>\n",
    "- Identifique e lide com valores ausentes, duplicatas e outliers nos dados brutos da camada \"bronze\". <br>\n",
    "- Padronize e limpe os nomes das colunas, convertendo-os em um formato consistente. <br>\n",
    "- Realize uma limpeza textual em campos, como descrições de propriedades, removendo caracteres especiais e erros de digitação."
   ]
  },
  {
   "cell_type": "code",
   "execution_count": 74,
   "metadata": {},
   "outputs": [],
   "source": [
    "#converter reviews para os tipos corretos\n",
    "reviews[['listing_id', 'id', 'reviewer_id']] = reviews[['listing_id', 'id', 'reviewer_id']].apply(pd.to_numeric)\n",
    "reviews['date'] = pd.to_datetime(reviews['date'])"
   ]
  },
  {
   "cell_type": "code",
   "execution_count": 75,
   "metadata": {},
   "outputs": [],
   "source": [
    "#converter calendar para os tipos corretos e remover caracteres especiais\n",
    "calendar['price'] = calendar['price'].str.replace('$','', regex=False)\n",
    "calendar['price'] = calendar['price'].str.replace(',','', regex=False).astype(float)\n",
    "calendar['date'] = pd.to_datetime(calendar['date'])\n",
    "calendar[['listing_id', 'adjusted_price', 'minimum_nights', 'maximum_nights']] = calendar[['listing_id', 'adjusted_price', 'minimum_nights', 'maximum_nights']].apply(pd.to_numeric)"
   ]
  },
  {
   "cell_type": "code",
   "execution_count": 76,
   "metadata": {},
   "outputs": [],
   "source": [
    "#converter listings para os tipos corretos e remover caracteres especiais\n",
    "converter_numerico = [\n",
    "    'id', 'host_id', 'host_listings_count', 'host_total_listings_count', \n",
    "    'accommodates', 'bathrooms', 'bedrooms', 'beds', 'minimum_nights', \n",
    "    'maximum_nights', 'minimum_minimum_nights', 'maximum_minimum_nights', \n",
    "    'minimum_maximum_nights', 'maximum_maximum_nights', 'minimum_nights_avg_ntm', \n",
    "    'maximum_nights_avg_ntm', 'availability_30', 'availability_60', \n",
    "    'availability_90', 'availability_365', 'number_of_reviews', \n",
    "    'number_of_reviews_ltm', 'number_of_reviews_l30d', 'review_scores_rating', \n",
    "    'review_scores_accuracy', 'review_scores_cleanliness', 'review_scores_checkin', \n",
    "    'review_scores_communication', 'review_scores_location', 'review_scores_value', \n",
    "    'calculated_host_listings_count', 'calculated_host_listings_count_entire_homes', \n",
    "    'calculated_host_listings_count_private_rooms', \n",
    "    'calculated_host_listings_count_shared_rooms', 'reviews_per_month'\n",
    "]\n",
    "\n",
    "converter_data = [\n",
    "    'last_scraped', 'host_since', 'first_review', 'last_review'\n",
    "]\n",
    "\n",
    "#converter os tipos conforme as listas acima\n",
    "listings[converter_numerico] = listings[converter_numerico].apply(pd.to_numeric)\n",
    "listings[converter_data] = listings[converter_data].apply(pd.to_datetime)\n",
    "\n",
    "#corrigir a coluna de price que tinha caractere especial\n",
    "listings['price'] = listings['price'].str.replace('$','', regex=False)\n",
    "listings['price'] = listings['price'].str.replace(',','', regex=False).astype(float)\n",
    "\n",
    "#existem valores N/A nas colunas host_response_rate e host_acceptance_rate; é prevciso alterar para NaN\n",
    "listings['host_response_rate'] = listings['host_response_rate'].replace('N/A', np.NaN)\n",
    "listings['host_acceptance_rate'] =listings['host_acceptance_rate'].replace('N/A', np.NaN)\n",
    "\n",
    "#converter colunas com % para formato adequado\n",
    "listings['host_response_rate'] = listings['host_response_rate'].str.replace('%', '', regex=False).astype(float) / 100\n",
    "listings['host_acceptance_rate'] = listings['host_acceptance_rate'].str.replace('%', '', regex=False).astype(float) / 100"
   ]
  },
  {
   "cell_type": "code",
   "execution_count": null,
   "metadata": {},
   "outputs": [],
   "source": [
    "#algumas colunas de listings estão com vazio 'None', vou mudar para NaN\n",
    "contem_vazios = ['description', 'neighborhood_overview', 'host_location', 'host_response_rate', \n",
    "'host_acceptance_rate', 'host_is_superhost', 'host_neighbourhood', 'neighbourhood', \n",
    "'neighbourhood_group_cleansed', 'bathrooms', 'bathrooms_text', 'bedrooms', \n",
    "'beds', 'price', 'calendar_updated', 'has_availability', 'first_review', \n",
    "'last_review', 'review_scores_rating', 'review_scores_accuracy', \n",
    "'review_scores_cleanliness', 'review_scores_checkin', \n",
    "'review_scores_communication', 'review_scores_location', \n",
    "'review_scores_value', 'license', 'reviews_per_month']\n",
    "\n",
    "listings[contem_vazios] = listings[contem_vazios].fillna(np.nan)"
   ]
  },
  {
   "cell_type": "code",
   "execution_count": null,
   "metadata": {},
   "outputs": [],
   "source": [
    "# para concluir essa etapa ainda aprecisa:\n",
    "#tratar outros caracteres especiais\n",
    "#remover erros de digitação\n",
    "#verificar se tem linhas duplicadas nas bases\n",
    "#eu não entendi essa parte: Padronize e limpe os nomes das colunas, convertendo-os em um formato consistente. > creio que as colunas já estejam padronizadas\n",
    "#verifiquei as linhas vazias nas bases; depois que eu dei uma mexida, acho que tudo que está vazio está como NaN corretamente, agora eu não sei se cabe aos engenheiros 'tratar' isso "
   ]
  },
  {
   "cell_type": "markdown",
   "metadata": {},
   "source": [
    "Data Quality - Camada Silver:\n",
    "- Defina métricas de qualidade de dados, como integridade, precisão e consistência para os dados da camada \"bronze\".\n",
    "- Implemente verificações para garantir que os dados da camada \"silver\" estejam em conformidade com essas métricas.\n",
    "- Estabeleça um sistema de monitoramento contínuo da qualidade dos dados da camada \"silver\"."
   ]
  }
 ],
 "metadata": {
  "kernelspec": {
   "display_name": "venv",
   "language": "python",
   "name": "python3"
  },
  "language_info": {
   "codemirror_mode": {
    "name": "ipython",
    "version": 3
   },
   "file_extension": ".py",
   "mimetype": "text/x-python",
   "name": "python",
   "nbconvert_exporter": "python",
   "pygments_lexer": "ipython3",
   "version": "3.12.1"
  }
 },
 "nbformat": 4,
 "nbformat_minor": 2
}
